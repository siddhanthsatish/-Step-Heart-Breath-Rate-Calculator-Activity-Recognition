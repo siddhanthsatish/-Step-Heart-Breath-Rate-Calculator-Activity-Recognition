{
 "cells": [
  {
   "cell_type": "markdown",
   "metadata": {
    "colab_type": "text",
    "id": "XoLzcdoGy_xv"
   },
   "source": [
    "# Chapter 2: Pedometer and calorie tracker  \n",
    "\n",
    "Pedometers are popular as an everyday exercise progress monitor and motivator. We look at the steps to go from 3-axis accelerometer readings to counting steps. Note that there are multiple ways to approach this problem, and what is described below is one approach."
   ]
  },
  {
   "cell_type": "code",
   "execution_count": 0,
   "metadata": {
    "colab": {},
    "colab_type": "code",
    "id": "BBHnoXamy_x1"
   },
   "outputs": [],
   "source": [
    "import math\n",
    "import numpy as np"
   ]
  },
  {
   "cell_type": "markdown",
   "metadata": {
    "colab_type": "text",
    "id": "Jc9vF23Ny_yA"
   },
   "source": [
    "## Converting a 3-axis accelerometer signal into a 1-dimensional signal\n",
    "\n",
    "The first step is somehow converting a 3-axis accelerometer signal into a one-dimensional signal that we can use for detecting peaks. "
   ]
  },
  {
   "cell_type": "code",
   "execution_count": 0,
   "metadata": {
    "colab": {},
    "colab_type": "code",
    "id": "6wmdLAr2y_yD"
   },
   "outputs": [],
   "source": [
    "def pull_data(dir_name, file_name):\n",
    "    f = open(dir_name + '/' + file_name + '.csv')\n",
    "    xs = []\n",
    "    ys = []\n",
    "    zs = []\n",
    "    rs = []\n",
    "    timestamps = []\n",
    "    for line in f:\n",
    "        value = line.split(',')\n",
    "        if len(value) > 3:\n",
    "            timestamps.append(float(value[-4]))\n",
    "            x = float(value[-3])\n",
    "            y = float(value[-2])\n",
    "            z = float(value[-1])\n",
    "            r = math.sqrt(x ** 2 + y ** 2 + z ** 2)\n",
    "            xs.append(x)\n",
    "            ys.append(y)\n",
    "            zs.append(z)\n",
    "            rs.append(r)\n",
    "    return np.array(xs), np.array(ys), np.array(zs), np.array(rs), np.array(timestamps)\n"
   ]
  },
  {
   "cell_type": "markdown",
   "metadata": {
    "colab_type": "text",
    "id": "HaqQ043yy_yK"
   },
   "source": [
    "## Case study 1: Step Counting\n",
    "\n",
    "Let us look at how to extract steps from the raw time-series. Let us first plot the three-axis accelerometer readings. "
   ]
  },
  {
   "cell_type": "code",
   "execution_count": 0,
   "metadata": {
    "colab": {},
    "colab_type": "code",
    "id": "9vQTP6Goy_yM"
   },
   "outputs": [],
   "source": [
    "# read accelerometer data file\n",
    "\n",
    "accel_file = 'data/walk/inPocket/john1'\n",
    "x_data, y_data, z_data, signal, timestamps = pull_data(accel_file, 'accelerometer')\n",
    "\n",
    "c = timestamps[0]\n",
    "timestamps = (timestamps - c)/1000000000"
   ]
  },
  {
   "cell_type": "markdown",
   "metadata": {
    "colab_type": "text",
    "id": "UdQCcanfy_yU"
   },
   "source": [
    "**ASSIGNMENT:** Plot acceleration readings along each of the three axes on a single graph."
   ]
  },
  {
   "cell_type": "code",
   "execution_count": 0,
   "metadata": {
    "colab": {},
    "colab_type": "code",
    "id": "yhrUIj6ly_yW"
   },
   "outputs": [],
   "source": [
    "# FILL IN CODE: plot three-axis acceleration"
   ]
  },
  {
   "cell_type": "markdown",
   "metadata": {
    "colab_type": "text",
    "id": "thBBD8uTy_yd"
   },
   "source": [
    "### Using magnitude rather than 3-axis signal\n",
    "\n",
    "One issue with using the 3 axis signal directly is that the shape of the x, y, z curves depends on the orientation of the phone (or smartwatch). The acceleration changes as a result of the step can result in changes along all the three axes, so we need to design an orientation-independent algorithm. The easiest way to do this is to use the magnitude of the signal across all the three axes."
   ]
  },
  {
   "cell_type": "markdown",
   "metadata": {
    "colab_type": "text",
    "id": "peCl4yb9y_yf"
   },
   "source": [
    "**ASSIGNMENT:** Plot the magnitude of acceleration"
   ]
  },
  {
   "cell_type": "code",
   "execution_count": 0,
   "metadata": {
    "colab": {},
    "colab_type": "code",
    "id": "z6eSQVdvy_yi"
   },
   "outputs": [],
   "source": [
    "# FILL IN CODE: Calculate and plot magnitude"
   ]
  },
  {
   "cell_type": "markdown",
   "metadata": {
    "colab_type": "text",
    "id": "l3E_ik-uy_yp"
   },
   "source": [
    "### Cleaning the accelerometer magnitude signal with a butterworth filter\n",
    "\n",
    "We are now going to use a frequency domain filter called a 'butterworth filter' to remove noise (see previous notebook for further explanation of frequency-domain filtering). A Butterworth filter is a popular frequency domain 'lowpass' filter that can remove high frequency noise while only letting the low frequencies through. Since the walking signal is low frequency (only a few steps minute), this is a good approach."
   ]
  },
  {
   "cell_type": "markdown",
   "metadata": {
    "colab_type": "text",
    "id": "IrAv4ACBy_yr"
   },
   "source": [
    "**ASSIGNMENT:** Apply a Butterworth filter (as demonstrated in the previous notebook) and plot both unfiltered and filtered accelerometer signals (magnitude only)."
   ]
  },
  {
   "cell_type": "code",
   "execution_count": 0,
   "metadata": {
    "colab": {},
    "colab_type": "code",
    "id": "2o_vaYuLy_yt"
   },
   "outputs": [],
   "source": [
    "# FILL IN CODE: Create and apply Butterworth filter"
   ]
  },
  {
   "cell_type": "code",
   "execution_count": 0,
   "metadata": {
    "colab": {},
    "colab_type": "code",
    "id": "GEQNgo9jy_y0"
   },
   "outputs": [],
   "source": [
    "# FILL IN CODE: Plot signals"
   ]
  },
  {
   "cell_type": "markdown",
   "metadata": {
    "colab_type": "text",
    "id": "y6TKABxTy_y8"
   },
   "source": [
    "### Counting steps\n",
    "\n",
    "Our next problem is to determine when a step occurs. From looking at the figure, you could probably come up with a few potential algorithms. For example, we could extract the peak point of each step or look for crossings of the mean signal value. Note that the person seems to have stopped for a few seconds during his walk, where the signal is oscillating slightly about the mean value. It is important to carefully consider such changes since the threshold values could change depending on the current activity.\n",
    "\n",
    "**ASSIGNMENT:** From the filtered signal, determine the number of steps taken by the person. You can use one of the abovementioned methods or implement your own algorithm to do so. Plot the filtered signal and the detected steps."
   ]
  },
  {
   "cell_type": "code",
   "execution_count": 0,
   "metadata": {
    "colab": {},
    "colab_type": "code",
    "id": "qKlpIrTqy_y9"
   },
   "outputs": [],
   "source": [
    "# FILL IN CODE: Step counting algorithm"
   ]
  },
  {
   "cell_type": "code",
   "execution_count": 0,
   "metadata": {
    "colab": {},
    "colab_type": "code",
    "id": "5fE-q3wFy_zE"
   },
   "outputs": [],
   "source": [
    "# FILL IN CODE: Plot the signal and mark the points where your algorithm detects steps"
   ]
  }
 ],
 "metadata": {
  "colab": {
   "name": "step_counting.ipynb",
   "provenance": []
  },
  "kernelspec": {
   "display_name": "Python 3",
   "language": "python",
   "name": "python3"
  },
  "language_info": {
   "codemirror_mode": {
    "name": "ipython",
    "version": 3
   },
   "file_extension": ".py",
   "mimetype": "text/x-python",
   "name": "python",
   "nbconvert_exporter": "python",
   "pygments_lexer": "ipython3",
   "version": "3.8.5"
  }
 },
 "nbformat": 4,
 "nbformat_minor": 1
}
